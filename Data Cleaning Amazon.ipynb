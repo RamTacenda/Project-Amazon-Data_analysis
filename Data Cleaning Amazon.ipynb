{
 "cells": [
  {
   "cell_type": "markdown",
   "id": "d5dee3bf",
   "metadata": {},
   "source": [
    "## Data Cleaning Amazon"
   ]
  },
  {
   "cell_type": "code",
   "execution_count": 129,
   "id": "660e2f3a",
   "metadata": {
    "scrolled": false
   },
   "outputs": [
    {
     "data": {
      "text/html": [
       "<div>\n",
       "<style scoped>\n",
       "    .dataframe tbody tr th:only-of-type {\n",
       "        vertical-align: middle;\n",
       "    }\n",
       "\n",
       "    .dataframe tbody tr th {\n",
       "        vertical-align: top;\n",
       "    }\n",
       "\n",
       "    .dataframe thead th {\n",
       "        text-align: right;\n",
       "    }\n",
       "</style>\n",
       "<table border=\"1\" class=\"dataframe\">\n",
       "  <thead>\n",
       "    <tr style=\"text-align: right;\">\n",
       "      <th></th>\n",
       "      <th>Brand</th>\n",
       "      <th>Model Name</th>\n",
       "      <th>Price</th>\n",
       "      <th>Product_Description</th>\n",
       "      <th>Star_ratings</th>\n",
       "      <th>Ratings</th>\n",
       "      <th>CPU_model</th>\n",
       "      <th>RAM</th>\n",
       "      <th>Hard_Disk</th>\n",
       "      <th>Graphics_Processor</th>\n",
       "      <th>Screensize</th>\n",
       "      <th>Color</th>\n",
       "    </tr>\n",
       "  </thead>\n",
       "  <tbody>\n",
       "    <tr>\n",
       "      <th>0</th>\n",
       "      <td>BHWW</td>\n",
       "      <td>BaseBook-Midnight</td>\n",
       "      <td>INR33,252.37</td>\n",
       "      <td>BHWW Windows 11 Laptop, 16GB RAM and 512GB SSD...</td>\n",
       "      <td>4.3</td>\n",
       "      <td>26 ratings</td>\n",
       "      <td>Celeron</td>\n",
       "      <td>16 GB</td>\n",
       "      <td>512 GB</td>\n",
       "      <td></td>\n",
       "      <td>15.6 Inches</td>\n",
       "      <td>Midnight</td>\n",
       "    </tr>\n",
       "    <tr>\n",
       "      <th>1</th>\n",
       "      <td>Lenovo</td>\n",
       "      <td>IdeaPad 1 15IJL7</td>\n",
       "      <td>INR28,182.09</td>\n",
       "      <td>Lenovo IdeaPad 1 Student Laptop, Intel Dual Co...</td>\n",
       "      <td>4.2</td>\n",
       "      <td>44 ratings</td>\n",
       "      <td>Celeron</td>\n",
       "      <td>12 GB</td>\n",
       "      <td>512 GB</td>\n",
       "      <td></td>\n",
       "      <td>15.6 Inches</td>\n",
       "      <td>Gray</td>\n",
       "    </tr>\n",
       "    <tr>\n",
       "      <th>2</th>\n",
       "      <td>HP</td>\n",
       "      <td>HP Laptop</td>\n",
       "      <td>INR24,938.24</td>\n",
       "      <td>HP Newest 14\" Ultral Light Laptop for Students...</td>\n",
       "      <td>4.2</td>\n",
       "      <td>992 ratings</td>\n",
       "      <td>Celeron N</td>\n",
       "      <td>8 GB</td>\n",
       "      <td>64 GB</td>\n",
       "      <td></td>\n",
       "      <td>14 Inches</td>\n",
       "      <td>Snowflake White</td>\n",
       "    </tr>\n",
       "    <tr>\n",
       "      <th>3</th>\n",
       "      <td>HP</td>\n",
       "      <td>TPN-Q222</td>\n",
       "      <td>INR40,236.37</td>\n",
       "      <td>HP Notebook Laptop, 15.6\" HD Touchscreen, Inte...</td>\n",
       "      <td>4.3</td>\n",
       "      <td>526 ratings</td>\n",
       "      <td>Core i3 Family</td>\n",
       "      <td>32 GB</td>\n",
       "      <td>1 TB</td>\n",
       "      <td>Intel UHD Graphics</td>\n",
       "      <td>15.6 Inches</td>\n",
       "      <td>Silver</td>\n",
       "    </tr>\n",
       "    <tr>\n",
       "      <th>4</th>\n",
       "      <td>SGIN</td>\n",
       "      <td>SGIN-M15S</td>\n",
       "      <td>INR21,613.75</td>\n",
       "      <td>SGIN 15.6 Inch Laptop, 8GB DDR4 512GB SSD Lapt...</td>\n",
       "      <td>4.6</td>\n",
       "      <td>148 ratings</td>\n",
       "      <td>Celeron</td>\n",
       "      <td>8 GB</td>\n",
       "      <td>512 GB</td>\n",
       "      <td></td>\n",
       "      <td>15.6 Inches</td>\n",
       "      <td>Black</td>\n",
       "    </tr>\n",
       "    <tr>\n",
       "      <th>5</th>\n",
       "      <td>Lenovo</td>\n",
       "      <td>Lenovo IdeaPad</td>\n",
       "      <td>INR33,242.39</td>\n",
       "      <td>Lenovo 15.6\" IdeaPad 1 Laptop, 20GB Memory, 1T...</td>\n",
       "      <td>4.2</td>\n",
       "      <td>124 ratings</td>\n",
       "      <td>Pentium Other</td>\n",
       "      <td>20 GB</td>\n",
       "      <td>1 TB</td>\n",
       "      <td></td>\n",
       "      <td>15.6 Inches</td>\n",
       "      <td>Black</td>\n",
       "    </tr>\n",
       "    <tr>\n",
       "      <th>6</th>\n",
       "      <td>HP</td>\n",
       "      <td>Pavilion</td>\n",
       "      <td>INR41,483.37</td>\n",
       "      <td>HP 2022 Newest Pavilion 15.6\" HD Laptop, Intel...</td>\n",
       "      <td>4.2</td>\n",
       "      <td>611 ratings</td>\n",
       "      <td>Pentium N5000</td>\n",
       "      <td>32 GB</td>\n",
       "      <td>1 TB</td>\n",
       "      <td>Intel UHD Graphics</td>\n",
       "      <td>15.6 Inches</td>\n",
       "      <td></td>\n",
       "    </tr>\n",
       "    <tr>\n",
       "      <th>7</th>\n",
       "      <td>Lenovo</td>\n",
       "      <td>‎Lenovo IdeaPad</td>\n",
       "      <td>INR33,252.37</td>\n",
       "      <td>Lenovo 15.6\" IdeaPad Laptop with 1 Year Micros...</td>\n",
       "      <td>4.2</td>\n",
       "      <td>139 ratings</td>\n",
       "      <td>Pentium</td>\n",
       "      <td>20 GB</td>\n",
       "      <td>1 TB</td>\n",
       "      <td></td>\n",
       "      <td>15.6 Inches</td>\n",
       "      <td>Abyss Blue</td>\n",
       "    </tr>\n",
       "    <tr>\n",
       "      <th>8</th>\n",
       "      <td>HP</td>\n",
       "      <td>Premium</td>\n",
       "      <td>INR27,350.76</td>\n",
       "      <td>HP 2022 Premium 14-inch HD Thin and Light Lapt...</td>\n",
       "      <td>4.1</td>\n",
       "      <td>2,388 ratings</td>\n",
       "      <td>Celeron</td>\n",
       "      <td>32 GB</td>\n",
       "      <td>64 GB</td>\n",
       "      <td></td>\n",
       "      <td>14 Inches</td>\n",
       "      <td>Indigo Blue</td>\n",
       "    </tr>\n",
       "    <tr>\n",
       "      <th>9</th>\n",
       "      <td>HP</td>\n",
       "      <td>14-dq0054dx</td>\n",
       "      <td>INR31,589.71</td>\n",
       "      <td>2023 Newest HP Laptops for College Student &amp; B...</td>\n",
       "      <td>4.0</td>\n",
       "      <td>59 ratings</td>\n",
       "      <td>Celeron N4000</td>\n",
       "      <td>16 GB</td>\n",
       "      <td>64 GB</td>\n",
       "      <td></td>\n",
       "      <td>14 Inches</td>\n",
       "      <td>Rose Gold</td>\n",
       "    </tr>\n",
       "  </tbody>\n",
       "</table>\n",
       "</div>"
      ],
      "text/plain": [
       "    Brand         Model Name         Price  \\\n",
       "0    BHWW  BaseBook-Midnight  INR33,252.37   \n",
       "1  Lenovo   IdeaPad 1 15IJL7  INR28,182.09   \n",
       "2      HP          HP Laptop  INR24,938.24   \n",
       "3      HP           TPN-Q222  INR40,236.37   \n",
       "4    SGIN          SGIN-M15S  INR21,613.75   \n",
       "5  Lenovo     Lenovo IdeaPad  INR33,242.39   \n",
       "6      HP           Pavilion  INR41,483.37   \n",
       "7  Lenovo    ‎Lenovo IdeaPad  INR33,252.37   \n",
       "8      HP            Premium  INR27,350.76   \n",
       "9      HP        14-dq0054dx  INR31,589.71   \n",
       "\n",
       "                                 Product_Description Star_ratings  \\\n",
       "0  BHWW Windows 11 Laptop, 16GB RAM and 512GB SSD...          4.3   \n",
       "1  Lenovo IdeaPad 1 Student Laptop, Intel Dual Co...          4.2   \n",
       "2  HP Newest 14\" Ultral Light Laptop for Students...          4.2   \n",
       "3  HP Notebook Laptop, 15.6\" HD Touchscreen, Inte...          4.3   \n",
       "4  SGIN 15.6 Inch Laptop, 8GB DDR4 512GB SSD Lapt...          4.6   \n",
       "5  Lenovo 15.6\" IdeaPad 1 Laptop, 20GB Memory, 1T...          4.2   \n",
       "6  HP 2022 Newest Pavilion 15.6\" HD Laptop, Intel...          4.2   \n",
       "7  Lenovo 15.6\" IdeaPad Laptop with 1 Year Micros...          4.2   \n",
       "8  HP 2022 Premium 14-inch HD Thin and Light Lapt...          4.1   \n",
       "9  2023 Newest HP Laptops for College Student & B...          4.0   \n",
       "\n",
       "         Ratings       CPU_model    RAM Hard_Disk  Graphics_Processor  \\\n",
       "0     26 ratings         Celeron  16 GB    512 GB                       \n",
       "1     44 ratings         Celeron  12 GB    512 GB                       \n",
       "2    992 ratings       Celeron N   8 GB     64 GB                       \n",
       "3    526 ratings  Core i3 Family  32 GB      1 TB  Intel UHD Graphics   \n",
       "4    148 ratings         Celeron   8 GB    512 GB                       \n",
       "5    124 ratings   Pentium Other  20 GB      1 TB                       \n",
       "6    611 ratings   Pentium N5000  32 GB      1 TB  Intel UHD Graphics   \n",
       "7    139 ratings         Pentium  20 GB      1 TB                       \n",
       "8  2,388 ratings         Celeron  32 GB     64 GB                       \n",
       "9     59 ratings   Celeron N4000  16 GB     64 GB                       \n",
       "\n",
       "    Screensize            Color  \n",
       "0  15.6 Inches         Midnight  \n",
       "1  15.6 Inches             Gray  \n",
       "2    14 Inches  Snowflake White  \n",
       "3  15.6 Inches           Silver  \n",
       "4  15.6 Inches            Black  \n",
       "5  15.6 Inches            Black  \n",
       "6  15.6 Inches                   \n",
       "7  15.6 Inches       Abyss Blue  \n",
       "8    14 Inches      Indigo Blue  \n",
       "9    14 Inches        Rose Gold  "
      ]
     },
     "execution_count": 129,
     "metadata": {},
     "output_type": "execute_result"
    }
   ],
   "source": [
    "# Importing the required packages and loading the dataset\n",
    "import pandas as pd\n",
    "import numpy as np\n",
    "import re\n",
    "\n",
    "df = pd.read_csv(r\"C:\\Users\\Ramesh\\Desktop\\Tacenda's Archives\\Amazon_data3.csv\")\n",
    "df.head(10)"
   ]
  },
  {
   "cell_type": "code",
   "execution_count": 130,
   "id": "e40cc8d5",
   "metadata": {},
   "outputs": [],
   "source": [
    "df.columns = df.columns.str.replace(\" \", \"_\")"
   ]
  },
  {
   "cell_type": "code",
   "execution_count": 131,
   "id": "c29f05d9",
   "metadata": {},
   "outputs": [
    {
     "data": {
      "text/plain": [
       "(316, 12)"
      ]
     },
     "execution_count": 131,
     "metadata": {},
     "output_type": "execute_result"
    }
   ],
   "source": [
    "# Dropping duplicates rows\n",
    "df.drop_duplicates(inplace = True)\n",
    "df.shape"
   ]
  },
  {
   "cell_type": "code",
   "execution_count": 132,
   "id": "726c5502",
   "metadata": {},
   "outputs": [
    {
     "data": {
      "text/html": [
       "<div>\n",
       "<style scoped>\n",
       "    .dataframe tbody tr th:only-of-type {\n",
       "        vertical-align: middle;\n",
       "    }\n",
       "\n",
       "    .dataframe tbody tr th {\n",
       "        vertical-align: top;\n",
       "    }\n",
       "\n",
       "    .dataframe thead th {\n",
       "        text-align: right;\n",
       "    }\n",
       "</style>\n",
       "<table border=\"1\" class=\"dataframe\">\n",
       "  <thead>\n",
       "    <tr style=\"text-align: right;\">\n",
       "      <th></th>\n",
       "      <th>Brand</th>\n",
       "      <th>Model_Name</th>\n",
       "      <th>Price</th>\n",
       "      <th>Product_Description</th>\n",
       "      <th>Star_ratings</th>\n",
       "      <th>Ratings</th>\n",
       "      <th>CPU_model</th>\n",
       "      <th>RAM</th>\n",
       "      <th>Hard_Disk</th>\n",
       "      <th>Graphics_Processor</th>\n",
       "      <th>Screensize</th>\n",
       "      <th>Color</th>\n",
       "    </tr>\n",
       "  </thead>\n",
       "  <tbody>\n",
       "    <tr>\n",
       "      <th>287</th>\n",
       "      <td></td>\n",
       "      <td></td>\n",
       "      <td>INR2,492.33</td>\n",
       "      <td>Travel Laptop Backpack, College Laptop Backpac...</td>\n",
       "      <td>4.5</td>\n",
       "      <td>803 ratings</td>\n",
       "      <td></td>\n",
       "      <td></td>\n",
       "      <td></td>\n",
       "      <td></td>\n",
       "      <td></td>\n",
       "      <td></td>\n",
       "    </tr>\n",
       "    <tr>\n",
       "      <th>291</th>\n",
       "      <td></td>\n",
       "      <td></td>\n",
       "      <td>INR15,794.44</td>\n",
       "      <td>Laptop 15.6 Inch 4GB DDR 128G Memory, Windows ...</td>\n",
       "      <td>3.1</td>\n",
       "      <td>13 ratings</td>\n",
       "      <td></td>\n",
       "      <td></td>\n",
       "      <td></td>\n",
       "      <td></td>\n",
       "      <td></td>\n",
       "      <td></td>\n",
       "    </tr>\n",
       "  </tbody>\n",
       "</table>\n",
       "</div>"
      ],
      "text/plain": [
       "    Brand Model_Name         Price  \\\n",
       "287                    INR2,492.33   \n",
       "291                   INR15,794.44   \n",
       "\n",
       "                                   Product_Description Star_ratings  \\\n",
       "287  Travel Laptop Backpack, College Laptop Backpac...          4.5   \n",
       "291  Laptop 15.6 Inch 4GB DDR 128G Memory, Windows ...          3.1   \n",
       "\n",
       "         Ratings CPU_model RAM Hard_Disk Graphics_Processor Screensize Color  \n",
       "287  803 ratings                                                              \n",
       "291   13 ratings                                                              "
      ]
     },
     "execution_count": 132,
     "metadata": {},
     "output_type": "execute_result"
    }
   ],
   "source": [
    "df.loc[df[\"Brand\"] == \" \"]"
   ]
  },
  {
   "cell_type": "code",
   "execution_count": 133,
   "id": "bda4efcd",
   "metadata": {},
   "outputs": [],
   "source": [
    "# Dropping rows in \"Brand\" column that has no name (\" \")\n",
    "df = df.loc[df[\"Brand\"] != \" \"]"
   ]
  },
  {
   "cell_type": "code",
   "execution_count": 134,
   "id": "9d1772cc",
   "metadata": {},
   "outputs": [],
   "source": [
    "# Dropping rows that has no Price\n",
    "df = df.loc[df[\"Price\"] != \" \"]"
   ]
  },
  {
   "cell_type": "code",
   "execution_count": 135,
   "id": "b795d2ff",
   "metadata": {
    "scrolled": true
   },
   "outputs": [],
   "source": [
    "# Removing INR from the Price column\n",
    "df[\"Price\"] = df[\"Price\"].str.replace(\",\",\"\")\n",
    "df[\"Price\"] = df[\"Price\"].str.strip(\"INR\")"
   ]
  },
  {
   "cell_type": "code",
   "execution_count": 136,
   "id": "12471182",
   "metadata": {},
   "outputs": [],
   "source": [
    "# Converting it to a float dtype\n",
    "df[\"Price\"] = df[\"Price\"].str.strip(\"$\").astype(float)"
   ]
  },
  {
   "cell_type": "code",
   "execution_count": 137,
   "id": "f4a75af0",
   "metadata": {},
   "outputs": [
    {
     "data": {
      "text/html": [
       "<div>\n",
       "<style scoped>\n",
       "    .dataframe tbody tr th:only-of-type {\n",
       "        vertical-align: middle;\n",
       "    }\n",
       "\n",
       "    .dataframe tbody tr th {\n",
       "        vertical-align: top;\n",
       "    }\n",
       "\n",
       "    .dataframe thead th {\n",
       "        text-align: right;\n",
       "    }\n",
       "</style>\n",
       "<table border=\"1\" class=\"dataframe\">\n",
       "  <thead>\n",
       "    <tr style=\"text-align: right;\">\n",
       "      <th></th>\n",
       "      <th>Brand</th>\n",
       "      <th>Model_Name</th>\n",
       "      <th>Price</th>\n",
       "      <th>Product_Description</th>\n",
       "      <th>Star_ratings</th>\n",
       "      <th>Ratings</th>\n",
       "      <th>CPU_model</th>\n",
       "      <th>RAM</th>\n",
       "      <th>Hard_Disk</th>\n",
       "      <th>Graphics_Processor</th>\n",
       "      <th>Screensize</th>\n",
       "      <th>Color</th>\n",
       "    </tr>\n",
       "  </thead>\n",
       "  <tbody>\n",
       "  </tbody>\n",
       "</table>\n",
       "</div>"
      ],
      "text/plain": [
       "Empty DataFrame\n",
       "Columns: [Brand, Model_Name, Price, Product_Description, Star_ratings, Ratings, CPU_model, RAM, Hard_Disk, Graphics_Processor, Screensize, Color]\n",
       "Index: []"
      ]
     },
     "execution_count": 137,
     "metadata": {},
     "output_type": "execute_result"
    }
   ],
   "source": [
    "# checking if there is any blank in Product_Description\n",
    "df.loc[df[\"Product_Description\"] == \" \"]"
   ]
  },
  {
   "cell_type": "code",
   "execution_count": 138,
   "id": "89fcda10",
   "metadata": {},
   "outputs": [],
   "source": [
    "# Converting Star_ratings to a float dtype\n",
    "df[\"Star_ratings\"] = df[\"Star_ratings\"].replace(\" \", np.nan).astype(float)"
   ]
  },
  {
   "cell_type": "code",
   "execution_count": 139,
   "id": "2682653e",
   "metadata": {},
   "outputs": [],
   "source": [
    "# Stripping ratings from the Ratings\n",
    "df[\"Ratings\"] = df[\"Ratings\"].str.strip(\"ratings\")"
   ]
  },
  {
   "cell_type": "code",
   "execution_count": 156,
   "id": "0cff59fe",
   "metadata": {},
   "outputs": [],
   "source": [
    "df[\"Ratings\"] = (df[\"Ratings\"].str.replace(\",\",\"\")).str.strip()\n",
    "df[\"Ratings\"] = df[\"Ratings\"].replace(\" \", 0)"
   ]
  },
  {
   "cell_type": "code",
   "execution_count": 163,
   "id": "bcc9b393",
   "metadata": {},
   "outputs": [],
   "source": [
    "df[\"Ratings\"] = df[\"Ratings\"].replace(\"\", 0).astype(int)"
   ]
  },
  {
   "cell_type": "code",
   "execution_count": 171,
   "id": "1893fd40",
   "metadata": {},
   "outputs": [],
   "source": [
    "df[\"CPU_model\"] = df[\"CPU_model\"].replace(\" \", np.nan)"
   ]
  },
  {
   "cell_type": "code",
   "execution_count": 176,
   "id": "8e5dc56e",
   "metadata": {},
   "outputs": [
    {
     "data": {
      "text/html": [
       "<div>\n",
       "<style scoped>\n",
       "    .dataframe tbody tr th:only-of-type {\n",
       "        vertical-align: middle;\n",
       "    }\n",
       "\n",
       "    .dataframe tbody tr th {\n",
       "        vertical-align: top;\n",
       "    }\n",
       "\n",
       "    .dataframe thead th {\n",
       "        text-align: right;\n",
       "    }\n",
       "</style>\n",
       "<table border=\"1\" class=\"dataframe\">\n",
       "  <thead>\n",
       "    <tr style=\"text-align: right;\">\n",
       "      <th></th>\n",
       "      <th>Brand</th>\n",
       "      <th>Model_Name</th>\n",
       "      <th>Price</th>\n",
       "      <th>Product_Description</th>\n",
       "      <th>Star_ratings</th>\n",
       "      <th>Ratings</th>\n",
       "      <th>CPU_model</th>\n",
       "      <th>RAM</th>\n",
       "      <th>Hard_Disk</th>\n",
       "      <th>Graphics_Processor</th>\n",
       "      <th>Screensize</th>\n",
       "      <th>Color</th>\n",
       "    </tr>\n",
       "  </thead>\n",
       "  <tbody>\n",
       "    <tr>\n",
       "      <th>188</th>\n",
       "      <td>Istudyniture</td>\n",
       "      <td></td>\n",
       "      <td>4987.15</td>\n",
       "      <td>Portable Laptop Lap Desk with Pillow Cushion, ...</td>\n",
       "      <td>NaN</td>\n",
       "      <td>337</td>\n",
       "      <td>NaN</td>\n",
       "      <td></td>\n",
       "      <td></td>\n",
       "      <td></td>\n",
       "      <td></td>\n",
       "      <td>Black: 21.8x12.1 in/Portable</td>\n",
       "    </tr>\n",
       "  </tbody>\n",
       "</table>\n",
       "</div>"
      ],
      "text/plain": [
       "            Brand Model_Name    Price  \\\n",
       "188  Istudyniture             4987.15   \n",
       "\n",
       "                                   Product_Description  Star_ratings  Ratings  \\\n",
       "188  Portable Laptop Lap Desk with Pillow Cushion, ...           NaN      337   \n",
       "\n",
       "    CPU_model RAM Hard_Disk Graphics_Processor Screensize  \\\n",
       "188       NaN                                               \n",
       "\n",
       "                            Color  \n",
       "188  Black: 21.8x12.1 in/Portable  "
      ]
     },
     "execution_count": 176,
     "metadata": {},
     "output_type": "execute_result"
    }
   ],
   "source": [
    "# Checking for blank spaces in RAM\n",
    "df.loc[df[\"RAM\"] == \" \"]"
   ]
  },
  {
   "cell_type": "code",
   "execution_count": 185,
   "id": "c12f436c",
   "metadata": {},
   "outputs": [],
   "source": [
    "# Dropping 188th index row\n",
    "df.drop(index = 188, inplace = True)"
   ]
  },
  {
   "cell_type": "code",
   "execution_count": 184,
   "id": "d7c0cac7",
   "metadata": {},
   "outputs": [
    {
     "data": {
      "text/html": [
       "<div>\n",
       "<style scoped>\n",
       "    .dataframe tbody tr th:only-of-type {\n",
       "        vertical-align: middle;\n",
       "    }\n",
       "\n",
       "    .dataframe tbody tr th {\n",
       "        vertical-align: top;\n",
       "    }\n",
       "\n",
       "    .dataframe thead th {\n",
       "        text-align: right;\n",
       "    }\n",
       "</style>\n",
       "<table border=\"1\" class=\"dataframe\">\n",
       "  <thead>\n",
       "    <tr style=\"text-align: right;\">\n",
       "      <th></th>\n",
       "      <th>Brand</th>\n",
       "      <th>Model_Name</th>\n",
       "      <th>Price</th>\n",
       "      <th>Product_Description</th>\n",
       "      <th>Star_ratings</th>\n",
       "      <th>Ratings</th>\n",
       "      <th>CPU_model</th>\n",
       "      <th>RAM</th>\n",
       "      <th>Hard_Disk</th>\n",
       "      <th>Graphics_Processor</th>\n",
       "      <th>Screensize</th>\n",
       "      <th>Color</th>\n",
       "    </tr>\n",
       "  </thead>\n",
       "  <tbody>\n",
       "  </tbody>\n",
       "</table>\n",
       "</div>"
      ],
      "text/plain": [
       "Empty DataFrame\n",
       "Columns: [Brand, Model_Name, Price, Product_Description, Star_ratings, Ratings, CPU_model, RAM, Hard_Disk, Graphics_Processor, Screensize, Color]\n",
       "Index: []"
      ]
     },
     "execution_count": 184,
     "metadata": {},
     "output_type": "execute_result"
    }
   ],
   "source": [
    "df.loc[df[\"RAM\"] == \" \"]"
   ]
  },
  {
   "cell_type": "code",
   "execution_count": 190,
   "id": "1d035d47",
   "metadata": {},
   "outputs": [],
   "source": [
    "# Checking for blankspaces in Hard_Disk\n",
    "df.loc[df[\"Hard_Disk\"] == \" \"]\n",
    "df[\"Hard_Disk\"] = df[\"Hard_Disk\"].replace(\" \", np.nan)"
   ]
  },
  {
   "cell_type": "code",
   "execution_count": 193,
   "id": "e5dc1786",
   "metadata": {},
   "outputs": [],
   "source": [
    "# Replacing \" \" with nan\n",
    "df[\"Graphics_Processor\"] = df[\"Graphics_Processor\"].replace(\" \", np.nan)"
   ]
  },
  {
   "cell_type": "code",
   "execution_count": 199,
   "id": "be406a0f",
   "metadata": {},
   "outputs": [
    {
     "data": {
      "text/html": [
       "<div>\n",
       "<style scoped>\n",
       "    .dataframe tbody tr th:only-of-type {\n",
       "        vertical-align: middle;\n",
       "    }\n",
       "\n",
       "    .dataframe tbody tr th {\n",
       "        vertical-align: top;\n",
       "    }\n",
       "\n",
       "    .dataframe thead th {\n",
       "        text-align: right;\n",
       "    }\n",
       "</style>\n",
       "<table border=\"1\" class=\"dataframe\">\n",
       "  <thead>\n",
       "    <tr style=\"text-align: right;\">\n",
       "      <th></th>\n",
       "      <th>Brand</th>\n",
       "      <th>Model_Name</th>\n",
       "      <th>Price</th>\n",
       "      <th>Product_Description</th>\n",
       "      <th>Star_ratings</th>\n",
       "      <th>Ratings</th>\n",
       "      <th>CPU_model</th>\n",
       "      <th>RAM</th>\n",
       "      <th>Hard_Disk</th>\n",
       "      <th>Graphics_Processor</th>\n",
       "      <th>Screensize</th>\n",
       "      <th>Color</th>\n",
       "    </tr>\n",
       "  </thead>\n",
       "  <tbody>\n",
       "  </tbody>\n",
       "</table>\n",
       "</div>"
      ],
      "text/plain": [
       "Empty DataFrame\n",
       "Columns: [Brand, Model_Name, Price, Product_Description, Star_ratings, Ratings, CPU_model, RAM, Hard_Disk, Graphics_Processor, Screensize, Color]\n",
       "Index: []"
      ]
     },
     "execution_count": 199,
     "metadata": {},
     "output_type": "execute_result"
    }
   ],
   "source": [
    "# Checking for Blank spaces in Scrensize\n",
    "df.loc[df[\"Screensize\"] == \" \"]"
   ]
  },
  {
   "cell_type": "code",
   "execution_count": 202,
   "id": "262a2fa6",
   "metadata": {},
   "outputs": [],
   "source": [
    "# Checking for Blankspaces in Color and replacing it with nan\n",
    "df[\"Color\"] = df[\"Color\"].replace(\" \", np.nan)"
   ]
  },
  {
   "cell_type": "code",
   "execution_count": 208,
   "id": "cebaa7ef",
   "metadata": {
    "scrolled": false
   },
   "outputs": [],
   "source": [
    "# Restting index\n",
    "df.reset_index(drop = True, inplace = True)"
   ]
  },
  {
   "cell_type": "code",
   "execution_count": 218,
   "id": "984e911d",
   "metadata": {
    "scrolled": true
   },
   "outputs": [],
   "source": [
    "# Strip GB from RAM\n",
    "df[\"RAM\"] = df[\"RAM\"].str.strip(\"GB\").str.strip().astype(int)"
   ]
  },
  {
   "cell_type": "code",
   "execution_count": 223,
   "id": "9388f8a0",
   "metadata": {
    "scrolled": false
   },
   "outputs": [],
   "source": [
    "# Renaming RAM column to RAM(GB)\n",
    "df.rename(columns = {\"RAM\": \"RAM(GB)\"}, inplace = True)"
   ]
  },
  {
   "cell_type": "code",
   "execution_count": 226,
   "id": "021730c1",
   "metadata": {},
   "outputs": [],
   "source": [
    "# Exporting it to a csv file\n",
    "df.to_csv(r\"C:\\Users\\Ramesh\\Desktop\\Tacenda's Archives\\Amazon_data(Pruned).csv\", index = False)"
   ]
  }
 ],
 "metadata": {
  "kernelspec": {
   "display_name": "Python 3 (ipykernel)",
   "language": "python",
   "name": "python3"
  },
  "language_info": {
   "codemirror_mode": {
    "name": "ipython",
    "version": 3
   },
   "file_extension": ".py",
   "mimetype": "text/x-python",
   "name": "python",
   "nbconvert_exporter": "python",
   "pygments_lexer": "ipython3",
   "version": "3.11.5"
  }
 },
 "nbformat": 4,
 "nbformat_minor": 5
}
