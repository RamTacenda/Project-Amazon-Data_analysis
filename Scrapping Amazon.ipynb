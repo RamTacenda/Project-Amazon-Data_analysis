{
 "cells": [
  {
   "cell_type": "markdown",
   "id": "454f6f15",
   "metadata": {},
   "source": [
    "## Importing required packages and extracting the links"
   ]
  },
  {
   "cell_type": "code",
   "execution_count": 22,
   "id": "40151f03",
   "metadata": {
    "scrolled": true
   },
   "outputs": [],
   "source": [
    "import pandas as pd\n",
    "import requests\n",
    "from bs4 import BeautifulSoup\n",
    "import re\n",
    "for i in range(1,18):\n",
    "    url = f\"https://www.amazon.com/s?k=best+gaming+laptop&page={i}&crid=2EMKHIYHFZAZ5&qid=1706095819&sprefix=best+gaming+laptops%2Caps%2C411&ref=sr_pg_2\"\n",
    "    headers = {\"User-Agent\": \"Mozilla/5.0 (Windows NT 10.0; Win64; x64) AppleWebKit/537.36 (KHTML, like Gecko) Chrome/120.0.0.0 Safari/537.36\", \n",
    "               \"Accept-Encoding\":\"gzip, deflate\", \"Accept\":\"text/html,application/xhtml+xml,application/xml;q=0.9,*/*;q=0.8\", \n",
    "               \"DNT\":\"1\",\"Connection\":\"close\", \"Upgrade-Insecure-Requests\":\"1\"}\n",
    "    response = requests.get(url, headers = headers)\n",
    "    soup = BeautifulSoup(response.content, \"html.parser\")\n",
    "\n",
    "    links = soup.find_all(\"a\", class_=\"a-link-normal s-underline-text s-underline-link-text s-link-style a-text-normal\")\n",
    "    for link in links:\n",
    "        href = link.get(\"href\")\n",
    "        if href and re.search(\"^https://aax-us-iad.amazon.com\",href):\n",
    "            pass\n",
    "        else:\n",
    "            listoflinks.append(\"https://www.amazon.com\" + href)"
   ]
  },
  {
   "cell_type": "markdown",
   "id": "146ee899",
   "metadata": {},
   "source": [
    "## Just for checking purpose, to allevaite any errors if exists"
   ]
  },
  {
   "cell_type": "code",
   "execution_count": 21,
   "id": "451e228b",
   "metadata": {
    "scrolled": false
   },
   "outputs": [],
   "source": [
    "for i, link in enumerate(listoflinks):\n",
    "    print(i, link)"
   ]
  },
  {
   "cell_type": "code",
   "execution_count": 24,
   "id": "86cd6299",
   "metadata": {
    "scrolled": true
   },
   "outputs": [
    {
     "name": "stdout",
     "output_type": "stream",
     "text": [
      "374\n"
     ]
    }
   ],
   "source": [
    "print(len(listoflinks))"
   ]
  },
  {
   "cell_type": "markdown",
   "id": "af740433",
   "metadata": {},
   "source": [
    "## Creating a blank list to append data"
   ]
  },
  {
   "cell_type": "code",
   "execution_count": 26,
   "id": "452ac296",
   "metadata": {},
   "outputs": [],
   "source": [
    "final_data = []"
   ]
  },
  {
   "cell_type": "code",
   "execution_count": null,
   "id": "2d3a99b9",
   "metadata": {
    "scrolled": true
   },
   "outputs": [],
   "source": [
    "for url in listoflinks:\n",
    "    new_response = requests.get(url,headers = {\"User-Agent\": \"Mozilla/5.0 (Windows NT 10.0; Win64; x64) AppleWebKit/537.36 (KHTML, like Gecko) Chrome/120.0.0.0 Safari/537.36\", \n",
    "                                                         \"Accept-Encoding\":\"gzip, deflate\",\"Accept-Language\": \"en-US,en-GB;q=0.9,en;q=0.8,ta;q=0.7\", \n",
    "                                                         \"Cookie\": 'i18n-prefs=INR', \n",
    "                                                         \"Accept\":\"text/html,application/xhtml+xml,application/xml;q=0.9,*/*;q=0.8\", \n",
    "                                                         \"DNT\":\"1\",\"Connection\":\"close\", \"Upgrade-Insecure-Requests\":\"1\"})\n",
    "    new_soup = BeautifulSoup(new_response.content, \"html.parser\")\n",
    "\n",
    "    Price_check = new_soup.find(\"span\", class_ = \"a-price aok-align-center\")\n",
    "    if Price_check:\n",
    "        Price = new_soup.find(\"span\", class_ = \"a-price aok-align-center\").find(\"span\", class_ =\"a-offscreen\").text\n",
    "    else:\n",
    "        try:\n",
    "            Price = new_soup.find(\"span\", class_ = \"a-price a-text-price a-size-medium\").find(\"span\",class_ =\"a-offscreen\").text\n",
    "        except:\n",
    "            Price = \" \"\n",
    "\n",
    "    Product_desc = (new_soup.find(\"span\", class_ = \"a-size-large product-title-word-break\").text).strip()\n",
    "    try:\n",
    "        Star_rating = (new_soup.find(\"a\", class_=\"a-popover-trigger a-declarative\").find(\"span\", class_ = \"a-size-base a-color-base\").text).strip()\n",
    "    except:\n",
    "        Star_rating = \" \"\n",
    "    try:\n",
    "        Ratings = new_soup.find(\"span\", attrs={\"id\": \"acrCustomerReviewText\"}).text\n",
    "    except:\n",
    "        Ratings = \" \"\n",
    "    try:\n",
    "        brand = new_soup.find(\"span\", class_ = \"a-size-base po-break-word\").text\n",
    "    except:\n",
    "        brand = \" \"\n",
    "    try:\n",
    "        Graphics_Processor = new_soup.find(\"tr\", class_ = \"a-spacing-small po-graphics_coprocessor\").find(\"span\",class_ = \"a-size-base po-break-word\").text\n",
    "    except AttributeError:\n",
    "        Graphics_Processor = \" \"\n",
    "\n",
    "    try:\n",
    "        Hard_Disk = new_soup.find(\"tr\", class_ = \"a-spacing-small po-hard_disk.size\").find(\"span\",class_ = \"a-size-base po-break-word\").text\n",
    "    except AttributeError:\n",
    "        Hard_Disk = \" \"\n",
    "\n",
    "    try:\n",
    "        modelname = new_soup.find(\"tr\",class_ = \"a-spacing-small po-model_name\").find(\"span\", class_ = \"a-size-base po-break-word\").text\n",
    "    except:\n",
    "        modelname = \" \"\n",
    "\n",
    "    try:\n",
    "        color = new_soup.find(\"tr\", class_ = \"a-spacing-small po-color\").find(\"span\",class_ = \"a-size-base po-break-word\").text\n",
    "    except:\n",
    "        color = \" \"\n",
    "\n",
    "    try:\n",
    "        screensize = new_soup.find(\"tr\", class_ = \"a-spacing-small po-display.size\").find(\"span\", class_ = \"a-size-base po-break-word\").text\n",
    "    except:\n",
    "        screensize = \" \"\n",
    "\n",
    "    try:\n",
    "        CPU_model = new_soup.find(\"tr\", class_ = \"a-spacing-small po-cpu_model.family\").find(\"span\",class_ = \"a-size-base po-break-word\").text\n",
    "    except:\n",
    "        CPU_model = \" \"\n",
    "\n",
    "    try:\n",
    "        RAM = new_soup.find(\"tr\", class_ = \"a-spacing-small po-ram_memory.installed_size\").find(\"span\",class_ = \"a-size-base po-break-word\").text\n",
    "    except:\n",
    "        RAM = \" \"\n",
    "\n",
    "    final_data.append([brand,modelname,Price,Product_desc,Star_rating,Ratings,CPU_model,RAM,Hard_Disk,Graphics_Processor,screensize,color])"
   ]
  },
  {
   "cell_type": "markdown",
   "id": "491d244a",
   "metadata": {},
   "source": [
    "## Making a copy of data (optional)"
   ]
  },
  {
   "cell_type": "code",
   "execution_count": 81,
   "id": "186c9e6e",
   "metadata": {},
   "outputs": [],
   "source": [
    "final_data_copied = final_data"
   ]
  },
  {
   "cell_type": "markdown",
   "id": "12e7e0b4",
   "metadata": {},
   "source": [
    "## Changing it to the pandas DataFrame for the conversion of csv file"
   ]
  },
  {
   "cell_type": "code",
   "execution_count": 101,
   "id": "8d7ad503",
   "metadata": {},
   "outputs": [],
   "source": [
    "df26 = pd.DataFrame(final_data_copied, columns = [\"Brand\",\"Model Name\",\"Price\",\"Product_Description\",\"Star_ratings\",\"Ratings\",\"CPU_model\",\"RAM\",\"Hard_Disk\",\"Graphics_Processor\",\"Screensize\",\"Color\"])"
   ]
  },
  {
   "cell_type": "code",
   "execution_count": 104,
   "id": "9bbe8444",
   "metadata": {},
   "outputs": [],
   "source": [
    "df26.to_csv(r\"C:\\Users\\Ramesh\\Desktop\\Tacenda's Archives\\Amazon_data3.csv\", index = False)"
   ]
  }
 ],
 "metadata": {
  "kernelspec": {
   "display_name": "Python 3 (ipykernel)",
   "language": "python",
   "name": "python3"
  },
  "language_info": {
   "codemirror_mode": {
    "name": "ipython",
    "version": 3
   },
   "file_extension": ".py",
   "mimetype": "text/x-python",
   "name": "python",
   "nbconvert_exporter": "python",
   "pygments_lexer": "ipython3",
   "version": "3.11.5"
  }
 },
 "nbformat": 4,
 "nbformat_minor": 5
}
