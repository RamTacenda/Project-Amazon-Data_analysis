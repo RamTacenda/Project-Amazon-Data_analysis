{
 "cells": [
  {
   "cell_type": "code",
   "execution_count": 223,
   "id": "7e4c28a8",
   "metadata": {},
   "outputs": [],
   "source": [
    "import pandas as pd\n",
    "import numpy as np\n",
    "import matplotlib.pyplot as plt\n",
    "\n",
    "df = pd.read_csv(r\"/home/tacenda/Desktop/Tacenda's files/Data Analysis/Pandas/Amazon_pruned_data.csv\")"
   ]
  },
  {
   "cell_type": "code",
   "execution_count": 224,
   "id": "3183302b",
   "metadata": {},
   "outputs": [],
   "source": [
    "df.drop(df.columns[0], axis = 1, inplace = True)"
   ]
  },
  {
   "cell_type": "code",
   "execution_count": 244,
   "id": "8e0d4d61",
   "metadata": {
    "scrolled": false
   },
   "outputs": [
    {
     "data": {
      "text/plain": [
       "25"
      ]
     },
     "execution_count": 244,
     "metadata": {},
     "output_type": "execute_result"
    }
   ],
   "source": [
    "df[\"Brand\"].unique().size"
   ]
  },
  {
   "cell_type": "code",
   "execution_count": 243,
   "id": "5d3ab49c",
   "metadata": {},
   "outputs": [
    {
     "data": {
      "text/plain": [
       "array(['ACEMAGIC', 'jumper', 'MSI', 'HP', 'ASUS', 'Maypug', 'Razer',\n",
       "       'Morostron', 'acer', 'LENOVO', 'Nmybwo', 'TUHUI', 'Dell', 'FUNYET',\n",
       "       'Ghost Manta', 'AMIAMO', 'ZENAERO', 'GATEWAY', 'BHWW', 'KOOFORWAY',\n",
       "       'ROKC', 'Auusda', 'DELL', 'Exilapsire', 'URAO'], dtype=object)"
      ]
     },
     "execution_count": 243,
     "metadata": {},
     "output_type": "execute_result"
    }
   ],
   "source": [
    "df[\"Brand\"].unique()"
   ]
  },
  {
   "cell_type": "code",
   "execution_count": 242,
   "id": "5c3d5249",
   "metadata": {},
   "outputs": [],
   "source": [
    "df[\"Brand\"] = df[\"Brand\"].str.replace(\"Asus\", \"ASUS\")"
   ]
  },
  {
   "cell_type": "code",
   "execution_count": 236,
   "id": "a656720c",
   "metadata": {},
   "outputs": [],
   "source": [
    "df[\"Brand\"] = df[\"Brand\"].str.replace(\"Lenovo\", \"LENOVO\")"
   ]
  },
  {
   "cell_type": "code",
   "execution_count": 227,
   "id": "8bb71029",
   "metadata": {
    "scrolled": true
   },
   "outputs": [
    {
     "data": {
      "text/plain": [
       "Index(['Brand', 'Model_Name', 'Price', 'Product_Description', 'Star_ratings',\n",
       "       'Ratings', 'CPU_model', 'RAM', 'Hard_Disk', 'Graphics_Processor',\n",
       "       'Screensize', 'Color', 'time_stamp'],\n",
       "      dtype='object')"
      ]
     },
     "execution_count": 227,
     "metadata": {},
     "output_type": "execute_result"
    }
   ],
   "source": [
    "df.columns"
   ]
  },
  {
   "cell_type": "code",
   "execution_count": 245,
   "id": "bbc7cb9a",
   "metadata": {},
   "outputs": [],
   "source": [
    "ratings_viz = df.groupby(\"Brand\").agg({\"Ratings\": \"count\",\"Star_ratings\": \"count\"})"
   ]
  },
  {
   "cell_type": "code",
   "execution_count": 246,
   "id": "4c89a95b",
   "metadata": {
    "scrolled": true
   },
   "outputs": [],
   "source": [
    "ratings_viz = ratings_viz.sort_values(\"Ratings\", ascending = False).head(5)"
   ]
  },
  {
   "cell_type": "code",
   "execution_count": 247,
   "id": "2bf1652f",
   "metadata": {},
   "outputs": [
    {
     "name": "stdout",
     "output_type": "stream",
     "text": [
      "['Solarize_Light2', '_classic_test_patch', '_mpl-gallery', '_mpl-gallery-nogrid', 'bmh', 'classic', 'dark_background', 'fast', 'fivethirtyeight', 'ggplot', 'grayscale', 'seaborn-v0_8', 'seaborn-v0_8-bright', 'seaborn-v0_8-colorblind', 'seaborn-v0_8-dark', 'seaborn-v0_8-dark-palette', 'seaborn-v0_8-darkgrid', 'seaborn-v0_8-deep', 'seaborn-v0_8-muted', 'seaborn-v0_8-notebook', 'seaborn-v0_8-paper', 'seaborn-v0_8-pastel', 'seaborn-v0_8-poster', 'seaborn-v0_8-talk', 'seaborn-v0_8-ticks', 'seaborn-v0_8-white', 'seaborn-v0_8-whitegrid', 'tableau-colorblind10']\n"
     ]
    }
   ],
   "source": [
    "print(plt.style.available)"
   ]
  },
  {
   "cell_type": "code",
   "execution_count": 253,
   "id": "0632e173",
   "metadata": {},
   "outputs": [],
   "source": [
    "plt.style.use(\"seaborn-v0_8\")"
   ]
  },
  {
   "cell_type": "code",
   "execution_count": 257,
   "id": "866c0dbb",
   "metadata": {
    "scrolled": true
   },
   "outputs": [
    {
     "data": {
      "text/plain": [
       "<Figure size 1000x700 with 0 Axes>"
      ]
     },
     "execution_count": 257,
     "metadata": {},
     "output_type": "execute_result"
    }
   ],
   "source": [
    "plt.figure(figsize = (10,7))"
   ]
  },
  {
   "cell_type": "code",
   "execution_count": 279,
   "id": "dbec0832",
   "metadata": {},
   "outputs": [
    {
     "data": {
      "text/html": [
       "<div>\n",
       "<style scoped>\n",
       "    .dataframe tbody tr th:only-of-type {\n",
       "        vertical-align: middle;\n",
       "    }\n",
       "\n",
       "    .dataframe tbody tr th {\n",
       "        vertical-align: top;\n",
       "    }\n",
       "\n",
       "    .dataframe thead th {\n",
       "        text-align: right;\n",
       "    }\n",
       "</style>\n",
       "<table border=\"1\" class=\"dataframe\">\n",
       "  <thead>\n",
       "    <tr style=\"text-align: right;\">\n",
       "      <th></th>\n",
       "      <th>Ratings</th>\n",
       "      <th>Star_ratings</th>\n",
       "    </tr>\n",
       "    <tr>\n",
       "      <th>Brand</th>\n",
       "      <th></th>\n",
       "      <th></th>\n",
       "    </tr>\n",
       "  </thead>\n",
       "  <tbody>\n",
       "    <tr>\n",
       "      <th>HP</th>\n",
       "      <td>53</td>\n",
       "      <td>53</td>\n",
       "    </tr>\n",
       "    <tr>\n",
       "      <th>LENOVO</th>\n",
       "      <td>25</td>\n",
       "      <td>25</td>\n",
       "    </tr>\n",
       "    <tr>\n",
       "      <th>ASUS</th>\n",
       "      <td>15</td>\n",
       "      <td>15</td>\n",
       "    </tr>\n",
       "    <tr>\n",
       "      <th>MSI</th>\n",
       "      <td>14</td>\n",
       "      <td>14</td>\n",
       "    </tr>\n",
       "    <tr>\n",
       "      <th>jumper</th>\n",
       "      <td>5</td>\n",
       "      <td>5</td>\n",
       "    </tr>\n",
       "  </tbody>\n",
       "</table>\n",
       "</div>"
      ],
      "text/plain": [
       "        Ratings  Star_ratings\n",
       "Brand                        \n",
       "HP           53            53\n",
       "LENOVO       25            25\n",
       "ASUS         15            15\n",
       "MSI          14            14\n",
       "jumper        5             5"
      ]
     },
     "execution_count": 279,
     "metadata": {},
     "output_type": "execute_result"
    }
   ],
   "source": [
    "ratings_viz"
   ]
  },
  {
   "cell_type": "code",
   "execution_count": 284,
   "id": "cac4bdf8",
   "metadata": {
    "scrolled": false
   },
   "outputs": [
    {
     "data": {
      "image/png": "[encoded data removed]",
      "text/plain": [
       "<Figure size 800x550 with 1 Axes>"
      ]
     },
     "metadata": {},
     "output_type": "display_data"
    }
   ],
   "source": [
    "ratings_viz.plot(kind=\"bar\", title = \"Most trusted brands for gaming laptops in india based on Ratings\", ylabel = \"Rating Count\", grid = False)\n",
    "plt.show()"
   ]
  },
  {
   "cell_type": "code",
   "execution_count": 260,
   "id": "46ed89de",
   "metadata": {
    "scrolled": true
   },
   "outputs": [
    {
     "data": {
      "text/plain": [
       "(53, 13)"
      ]
     },
     "execution_count": 260,
     "metadata": {},
     "output_type": "execute_result"
    }
   ],
   "source": [
    "df.loc[df[\"Brand\"] == \"HP\"].shape"
   ]
  },
  {
   "cell_type": "markdown",
   "id": "4dcefc87",
   "metadata": {},
   "source": [
    "## Most rated Hp laptops"
   ]
  },
  {
   "cell_type": "code",
   "execution_count": 261,
   "id": "ca2d379a",
   "metadata": {
    "scrolled": true
   },
   "outputs": [],
   "source": [
    "Hp_viz = df.loc[df[\"Brand\"] == \"HP\"].sort_values(\"Ratings\", ascending = False).head(5)"
   ]
  },
  {
   "cell_type": "code",
   "execution_count": 262,
   "id": "2558a7a4",
   "metadata": {},
   "outputs": [],
   "source": [
    "pd.set_option(\"display.max_columns\",10)"
   ]
  },
  {
   "cell_type": "code",
   "execution_count": 263,
   "id": "a669f4e8",
   "metadata": {
    "scrolled": true
   },
   "outputs": [
    {
     "data": {
      "text/html": [
       "<div>\n",
       "<style scoped>\n",
       "    .dataframe tbody tr th:only-of-type {\n",
       "        vertical-align: middle;\n",
       "    }\n",
       "\n",
       "    .dataframe tbody tr th {\n",
       "        vertical-align: top;\n",
       "    }\n",
       "\n",
       "    .dataframe thead th {\n",
       "        text-align: right;\n",
       "    }\n",
       "</style>\n",
       "<table border=\"1\" class=\"dataframe\">\n",
       "  <thead>\n",
       "    <tr style=\"text-align: right;\">\n",
       "      <th></th>\n",
       "      <th>Brand</th>\n",
       "      <th>Model_Name</th>\n",
       "      <th>Price</th>\n",
       "      <th>Product_Description</th>\n",
       "      <th>Star_ratings</th>\n",
       "      <th>...</th>\n",
       "      <th>Hard_Disk</th>\n",
       "      <th>Graphics_Processor</th>\n",
       "      <th>Screensize</th>\n",
       "      <th>Color</th>\n",
       "      <th>time_stamp</th>\n",
       "    </tr>\n",
       "  </thead>\n",
       "  <tbody>\n",
       "    <tr>\n",
       "      <th>137</th>\n",
       "      <td>HP</td>\n",
       "      <td>HP Laptop</td>\n",
       "      <td>23190.76</td>\n",
       "      <td>HP 2022 Premium 14-inch HD Thin and Light Lapt...</td>\n",
       "      <td>4.1</td>\n",
       "      <td>...</td>\n",
       "      <td>64 GB</td>\n",
       "      <td>NaN</td>\n",
       "      <td>14 Inches</td>\n",
       "      <td>Rose Gold</td>\n",
       "      <td>2024-01-28</td>\n",
       "    </tr>\n",
       "    <tr>\n",
       "      <th>113</th>\n",
       "      <td>HP</td>\n",
       "      <td>14-dq0030nr</td>\n",
       "      <td>16124.64</td>\n",
       "      <td>HP 14 Laptop, Intel Celeron N4020, 4 GB RAM, 6...</td>\n",
       "      <td>4.2</td>\n",
       "      <td>...</td>\n",
       "      <td>64 GB</td>\n",
       "      <td>NaN</td>\n",
       "      <td>14 Inches</td>\n",
       "      <td>Pale rose gold</td>\n",
       "      <td>2024-01-28</td>\n",
       "    </tr>\n",
       "    <tr>\n",
       "      <th>74</th>\n",
       "      <td>HP</td>\n",
       "      <td>HP Laptop</td>\n",
       "      <td>24934.64</td>\n",
       "      <td>HP Newest 14\" Ultral Light Laptop for Students...</td>\n",
       "      <td>4.2</td>\n",
       "      <td>...</td>\n",
       "      <td>64 GB</td>\n",
       "      <td>NaN</td>\n",
       "      <td>14 Inches</td>\n",
       "      <td>Snowflake White</td>\n",
       "      <td>2024-01-28</td>\n",
       "    </tr>\n",
       "    <tr>\n",
       "      <th>77</th>\n",
       "      <td>HP</td>\n",
       "      <td>HP</td>\n",
       "      <td>52365.40</td>\n",
       "      <td>HP 14\" Laptop Stream Ultral Light for Students...</td>\n",
       "      <td>4.2</td>\n",
       "      <td>...</td>\n",
       "      <td>64 GB</td>\n",
       "      <td>NaN</td>\n",
       "      <td>14 Inches</td>\n",
       "      <td>Dark Black</td>\n",
       "      <td>2024-01-28</td>\n",
       "    </tr>\n",
       "    <tr>\n",
       "      <th>111</th>\n",
       "      <td>HP</td>\n",
       "      <td>HP Stream</td>\n",
       "      <td>19865.92</td>\n",
       "      <td>HP Premium Stream 14\" HD BrightView Laptop, In...</td>\n",
       "      <td>4.4</td>\n",
       "      <td>...</td>\n",
       "      <td>64 GB</td>\n",
       "      <td>NaN</td>\n",
       "      <td>14 Inches</td>\n",
       "      <td>Blue</td>\n",
       "      <td>2024-01-28</td>\n",
       "    </tr>\n",
       "  </tbody>\n",
       "</table>\n",
       "<p>5 rows × 13 columns</p>\n",
       "</div>"
      ],
      "text/plain": [
       "    Brand   Model_Name     Price  \\\n",
       "137    HP    HP Laptop  23190.76   \n",
       "113    HP  14-dq0030nr  16124.64   \n",
       "74     HP    HP Laptop  24934.64   \n",
       "77     HP           HP  52365.40   \n",
       "111    HP    HP Stream  19865.92   \n",
       "\n",
       "                                   Product_Description  Star_ratings  ...  \\\n",
       "137  HP 2022 Premium 14-inch HD Thin and Light Lapt...           4.1  ...   \n",
       "113  HP 14 Laptop, Intel Celeron N4020, 4 GB RAM, 6...           4.2  ...   \n",
       "74   HP Newest 14\" Ultral Light Laptop for Students...           4.2  ...   \n",
       "77   HP 14\" Laptop Stream Ultral Light for Students...           4.2  ...   \n",
       "111  HP Premium Stream 14\" HD BrightView Laptop, In...           4.4  ...   \n",
       "\n",
       "     Hard_Disk Graphics_Processor  Screensize            Color  time_stamp  \n",
       "137      64 GB                NaN   14 Inches        Rose Gold  2024-01-28  \n",
       "113      64 GB                NaN   14 Inches   Pale rose gold  2024-01-28  \n",
       "74       64 GB                NaN   14 Inches  Snowflake White  2024-01-28  \n",
       "77       64 GB                NaN   14 Inches       Dark Black  2024-01-28  \n",
       "111      64 GB                NaN   14 Inches             Blue  2024-01-28  \n",
       "\n",
       "[5 rows x 13 columns]"
      ]
     },
     "execution_count": 263,
     "metadata": {},
     "output_type": "execute_result"
    }
   ],
   "source": [
    "Hp_viz"
   ]
  },
  {
   "cell_type": "code",
   "execution_count": 264,
   "id": "6721871f",
   "metadata": {
    "scrolled": false
   },
   "outputs": [
    {
     "name": "stdout",
     "output_type": "stream",
     "text": [
      "0 HP 2022 Premium 14-inch HD Thin and Light Laptop, Intel Quad-Core Processor, 8GB RAM, 64GB Storage, Long Battery Life, Webcam, Bluetooth, HDMI, Wi-Fi, Rose Gold, Windows 11 + 1 Year Microsoft 365\n",
      "\n",
      "1 HP 14 Laptop, Intel Celeron N4020, 4 GB RAM, 64 GB Storage, 14-inch Micro-edge HD Display, Windows 11 Home, Thin & Portable, 4K Graphics, One Year of Microsoft 365 (14-dq0030nr, 2021, Pale Rose Gold)\n",
      "\n",
      "2 HP Newest 14\" Ultral Light Laptop for Students and Business, Intel Quad-Core N4120, 8GB RAM, 192GB Storage(64GB eMMC+128GB Micro SD), 1 Year Office 365, Webcam, HDMI, WiFi, USB-A&C, Win 11 S\n",
      "\n",
      "3 HP 14\" Laptop Stream Ultral Light for Students and Business, Intel Celeron N4000 Series, 8GB RAM, 192GB Storage (64GB eMMC+128GB Ghost Manta SD Card), 1 Year Office 365, HDMI, WiFi, USB-A&C, Win 11\n",
      "\n",
      "4 HP Premium Stream 14\" HD BrightView Laptop, Intel Celeron N4120, 4GB RAM, 64GB eMMC Storage, UHD Graphics, HD Webcam, 1 Year Office 365, Bluetooth, WiFi, HDMI, Win 11s, Blue, 32GB Hotface USB Card\n",
      "\n"
     ]
    }
   ],
   "source": [
    "for index, desc in enumerate(Hp_viz[\"Product_Description\"]):\n",
    "    print(index, desc, end = \"\\n\\n\")"
   ]
  },
  {
   "cell_type": "code",
   "execution_count": 306,
   "id": "351f5c62",
   "metadata": {},
   "outputs": [
    {
     "data": {
      "image/png": "[encoded data removed]",
      "text/plain": [
       "<Figure size 800x550 with 1 Axes>"
      ]
     },
     "metadata": {},
     "output_type": "display_data"
    }
   ],
   "source": [
    "Hp_viz.plot(kind = \"barh\", x = \"Model_Name\", y = \"Ratings\", \n",
    "            ylabel= \"Model Name\", xlabel = \"Ratings\", title = \"Most rated HP laptops\",\n",
    "            color = \"#3498db\", grid = False)\n",
    "plt.show()"
   ]
  },
  {
   "cell_type": "markdown",
   "id": "45e04410",
   "metadata": {},
   "source": [
    "## Most rated Lenovo laptops"
   ]
  },
  {
   "cell_type": "code",
   "execution_count": 268,
   "id": "c7af2aee",
   "metadata": {},
   "outputs": [],
   "source": [
    "Lenovo_viz = df.loc[df[\"Brand\"] == \"LENOVO\"].sort_values(\"Ratings\", ascending = False).head(5)"
   ]
  },
  {
   "cell_type": "code",
   "execution_count": 269,
   "id": "52b3bd7b",
   "metadata": {
    "scrolled": true
   },
   "outputs": [
    {
     "data": {
      "text/html": [
       "<div>\n",
       "<style scoped>\n",
       "    .dataframe tbody tr th:only-of-type {\n",
       "        vertical-align: middle;\n",
       "    }\n",
       "\n",
       "    .dataframe tbody tr th {\n",
       "        vertical-align: top;\n",
       "    }\n",
       "\n",
       "    .dataframe thead th {\n",
       "        text-align: right;\n",
       "    }\n",
       "</style>\n",
       "<table border=\"1\" class=\"dataframe\">\n",
       "  <thead>\n",
       "    <tr style=\"text-align: right;\">\n",
       "      <th></th>\n",
       "      <th>Brand</th>\n",
       "      <th>Model_Name</th>\n",
       "      <th>Price</th>\n",
       "      <th>Product_Description</th>\n",
       "      <th>Star_ratings</th>\n",
       "      <th>...</th>\n",
       "      <th>Hard_Disk</th>\n",
       "      <th>Graphics_Processor</th>\n",
       "      <th>Screensize</th>\n",
       "      <th>Color</th>\n",
       "      <th>time_stamp</th>\n",
       "    </tr>\n",
       "  </thead>\n",
       "  <tbody>\n",
       "    <tr>\n",
       "      <th>119</th>\n",
       "      <td>LENOVO</td>\n",
       "      <td>IdeaPad 3 81X800ENUS</td>\n",
       "      <td>28673.42</td>\n",
       "      <td>Lenovo 2022 Newest Ideapad 3 Laptop, 15.6\" HD ...</td>\n",
       "      <td>4.3</td>\n",
       "      <td>...</td>\n",
       "      <td>256 GB</td>\n",
       "      <td>NaN</td>\n",
       "      <td>15.6 Inches</td>\n",
       "      <td>Almond</td>\n",
       "      <td>2024-01-28</td>\n",
       "    </tr>\n",
       "    <tr>\n",
       "      <th>29</th>\n",
       "      <td>LENOVO</td>\n",
       "      <td>Lenovo IdeaPad Gaming 3</td>\n",
       "      <td>49041.39</td>\n",
       "      <td>Lenovo - 2021 - IdeaPad Gaming 3 - Laptop Comp...</td>\n",
       "      <td>4.5</td>\n",
       "      <td>...</td>\n",
       "      <td>256 GB</td>\n",
       "      <td>NaN</td>\n",
       "      <td>15.6 Inches</td>\n",
       "      <td>Shadow Black</td>\n",
       "      <td>2024-01-28</td>\n",
       "    </tr>\n",
       "    <tr>\n",
       "      <th>43</th>\n",
       "      <td>LENOVO</td>\n",
       "      <td>Thinkpad T420</td>\n",
       "      <td>28178.02</td>\n",
       "      <td>Lenovo Thinkpad T420 - Intel Core i5 2520M 8GB...</td>\n",
       "      <td>4.1</td>\n",
       "      <td>...</td>\n",
       "      <td>512 GB</td>\n",
       "      <td>NaN</td>\n",
       "      <td>14 Inches</td>\n",
       "      <td>Black</td>\n",
       "      <td>2024-01-28</td>\n",
       "    </tr>\n",
       "    <tr>\n",
       "      <th>101</th>\n",
       "      <td>LENOVO</td>\n",
       "      <td>IdeaPad 3i</td>\n",
       "      <td>13465.60</td>\n",
       "      <td>Lenovo IdeaPad 1 14 Laptop, Intel Celeron N402...</td>\n",
       "      <td>3.7</td>\n",
       "      <td>...</td>\n",
       "      <td>128 GB</td>\n",
       "      <td>NaN</td>\n",
       "      <td>14 Inches</td>\n",
       "      <td>Gray</td>\n",
       "      <td>2024-01-28</td>\n",
       "    </tr>\n",
       "    <tr>\n",
       "      <th>129</th>\n",
       "      <td>LENOVO</td>\n",
       "      <td>LENOVO</td>\n",
       "      <td>18285.79</td>\n",
       "      <td>Lenovo 2022 Chromebook Flex 3, 2-in-1 11.6\" HD...</td>\n",
       "      <td>4.3</td>\n",
       "      <td>...</td>\n",
       "      <td>32 GB</td>\n",
       "      <td>NaN</td>\n",
       "      <td>11.6 Inches</td>\n",
       "      <td>Gray</td>\n",
       "      <td>2024-01-28</td>\n",
       "    </tr>\n",
       "  </tbody>\n",
       "</table>\n",
       "<p>5 rows × 13 columns</p>\n",
       "</div>"
      ],
      "text/plain": [
       "      Brand               Model_Name     Price  \\\n",
       "119  LENOVO     IdeaPad 3 81X800ENUS  28673.42   \n",
       "29   LENOVO  Lenovo IdeaPad Gaming 3  49041.39   \n",
       "43   LENOVO            Thinkpad T420  28178.02   \n",
       "101  LENOVO               IdeaPad 3i  13465.60   \n",
       "129  LENOVO                   LENOVO  18285.79   \n",
       "\n",
       "                                   Product_Description  Star_ratings  ...  \\\n",
       "119  Lenovo 2022 Newest Ideapad 3 Laptop, 15.6\" HD ...           4.3  ...   \n",
       "29   Lenovo - 2021 - IdeaPad Gaming 3 - Laptop Comp...           4.5  ...   \n",
       "43   Lenovo Thinkpad T420 - Intel Core i5 2520M 8GB...           4.1  ...   \n",
       "101  Lenovo IdeaPad 1 14 Laptop, Intel Celeron N402...           3.7  ...   \n",
       "129  Lenovo 2022 Chromebook Flex 3, 2-in-1 11.6\" HD...           4.3  ...   \n",
       "\n",
       "     Hard_Disk Graphics_Processor   Screensize         Color  time_stamp  \n",
       "119     256 GB                NaN  15.6 Inches        Almond  2024-01-28  \n",
       "29      256 GB                NaN  15.6 Inches  Shadow Black  2024-01-28  \n",
       "43      512 GB                NaN    14 Inches         Black  2024-01-28  \n",
       "101     128 GB                NaN    14 Inches          Gray  2024-01-28  \n",
       "129      32 GB                NaN  11.6 Inches          Gray  2024-01-28  \n",
       "\n",
       "[5 rows x 13 columns]"
      ]
     },
     "execution_count": 269,
     "metadata": {},
     "output_type": "execute_result"
    }
   ],
   "source": [
    "Lenovo_viz"
   ]
  },
  {
   "cell_type": "code",
   "execution_count": 270,
   "id": "0eabef80",
   "metadata": {
    "scrolled": true
   },
   "outputs": [
    {
     "name": "stdout",
     "output_type": "stream",
     "text": [
      "0 IdeaPad 3 81X800ENUS\n",
      "\n",
      "1 Lenovo IdeaPad Gaming 3\n",
      "\n",
      "2 Thinkpad T420\n",
      "\n",
      "3 IdeaPad 3i\n",
      "\n",
      "4 LENOVO\n",
      "\n"
     ]
    }
   ],
   "source": [
    "for index, models in enumerate(Lenovo_viz[\"Model_Name\"]):\n",
    "    print(index, models, end = \"\\n\\n\")"
   ]
  },
  {
   "cell_type": "code",
   "execution_count": 307,
   "id": "abebae46",
   "metadata": {},
   "outputs": [
    {
     "data": {
      "image/png": "[encoded data removed]",
      "text/plain": [
       "<Figure size 800x550 with 1 Axes>"
      ]
     },
     "metadata": {},
     "output_type": "display_data"
    }
   ],
   "source": [
    "Lenovo_viz.plot(kind = \"barh\", x = \"Model_Name\", y = \"Ratings\", \n",
    "                ylabel = \"Model Name\", xlabel = \"Ratings\",\n",
    "                title = \"Most rated Lenovo Laptops\", color = \"#3498db\", grid = False)\n",
    "plt.show()"
   ]
  },
  {
   "cell_type": "markdown",
   "id": "c6352672",
   "metadata": {},
   "source": [
    "## Most rated Asus Laptops"
   ]
  },
  {
   "cell_type": "code",
   "execution_count": 290,
   "id": "28286fbc",
   "metadata": {},
   "outputs": [],
   "source": [
    "asus_viz = df.loc[df[\"Brand\"] == \"ASUS\"].sort_values(\"Ratings\", ascending = False).head(5)"
   ]
  },
  {
   "cell_type": "code",
   "execution_count": 292,
   "id": "755a050c",
   "metadata": {
    "scrolled": false
   },
   "outputs": [
    {
     "name": "stdout",
     "output_type": "stream",
     "text": [
      "0 ASUS TUF Gaming F15\n",
      "\n",
      "1 TUF Dash 15 (2021)\n",
      "\n",
      "2 ROG Strix G16\n",
      "\n",
      "3 TUF Gaming F15\n",
      "\n",
      "4 TUF Gaming A17\n",
      "\n"
     ]
    }
   ],
   "source": [
    "for index, model in enumerate(asus_viz[\"Model_Name\"]):\n",
    "    print(index, model, end = \"\\n\\n\")"
   ]
  },
  {
   "cell_type": "code",
   "execution_count": 293,
   "id": "3c6e5031",
   "metadata": {},
   "outputs": [
    {
     "data": {
      "text/html": [
       "<div>\n",
       "<style scoped>\n",
       "    .dataframe tbody tr th:only-of-type {\n",
       "        vertical-align: middle;\n",
       "    }\n",
       "\n",
       "    .dataframe tbody tr th {\n",
       "        vertical-align: top;\n",
       "    }\n",
       "\n",
       "    .dataframe thead th {\n",
       "        text-align: right;\n",
       "    }\n",
       "</style>\n",
       "<table border=\"1\" class=\"dataframe\">\n",
       "  <thead>\n",
       "    <tr style=\"text-align: right;\">\n",
       "      <th></th>\n",
       "      <th>Brand</th>\n",
       "      <th>Model_Name</th>\n",
       "      <th>Price</th>\n",
       "      <th>Product_Description</th>\n",
       "      <th>Star_ratings</th>\n",
       "      <th>...</th>\n",
       "      <th>Hard_Disk</th>\n",
       "      <th>Graphics_Processor</th>\n",
       "      <th>Screensize</th>\n",
       "      <th>Color</th>\n",
       "      <th>time_stamp</th>\n",
       "    </tr>\n",
       "  </thead>\n",
       "  <tbody>\n",
       "    <tr>\n",
       "      <th>16</th>\n",
       "      <td>ASUS</td>\n",
       "      <td>ASUS TUF Gaming F15</td>\n",
       "      <td>68158.39</td>\n",
       "      <td>ASUS TUF F15 Gaming Laptop, 15.6\"  144Hz FHD I...</td>\n",
       "      <td>4.5</td>\n",
       "      <td>...</td>\n",
       "      <td>512 GB</td>\n",
       "      <td>NaN</td>\n",
       "      <td>15.6 Inches</td>\n",
       "      <td>Bonfire Black</td>\n",
       "      <td>2024-01-28</td>\n",
       "    </tr>\n",
       "    <tr>\n",
       "      <th>60</th>\n",
       "      <td>ASUS</td>\n",
       "      <td>TUF Dash 15 (2021)</td>\n",
       "      <td>66413.68</td>\n",
       "      <td>ASUS TUF Dash 15 (2021) Ultra Slim Gaming Lapt...</td>\n",
       "      <td>4.4</td>\n",
       "      <td>...</td>\n",
       "      <td>512 GB</td>\n",
       "      <td>NaN</td>\n",
       "      <td>15.6 Inches</td>\n",
       "      <td>Eclipse Grey</td>\n",
       "      <td>2024-01-28</td>\n",
       "    </tr>\n",
       "    <tr>\n",
       "      <th>5</th>\n",
       "      <td>ASUS</td>\n",
       "      <td>ROG Strix G16</td>\n",
       "      <td>116286.28</td>\n",
       "      <td>ASUS ROG Strix G16 (2023) Gaming Laptop, 16” 1...</td>\n",
       "      <td>4.3</td>\n",
       "      <td>...</td>\n",
       "      <td>512 GB</td>\n",
       "      <td>NaN</td>\n",
       "      <td>16 Inches</td>\n",
       "      <td>Eclipse Gray</td>\n",
       "      <td>2024-01-28</td>\n",
       "    </tr>\n",
       "    <tr>\n",
       "      <th>64</th>\n",
       "      <td>ASUS</td>\n",
       "      <td>TUF Gaming F15</td>\n",
       "      <td>87272.89</td>\n",
       "      <td>ASUS TUF Gaming F15 Laptop, 15.6\"  144Hz FHD I...</td>\n",
       "      <td>4.5</td>\n",
       "      <td>...</td>\n",
       "      <td>512 GB</td>\n",
       "      <td>NVIDIA GeForce RTX 3050 Ti</td>\n",
       "      <td>15.6 Inches</td>\n",
       "      <td>Eclipse Gray</td>\n",
       "      <td>2024-01-28</td>\n",
       "    </tr>\n",
       "    <tr>\n",
       "      <th>14</th>\n",
       "      <td>ASUS</td>\n",
       "      <td>TUF Gaming A17</td>\n",
       "      <td>58101.58</td>\n",
       "      <td>ASUS TUF Gaming A17 Gaming Laptop, 17.3” 144Hz...</td>\n",
       "      <td>4.4</td>\n",
       "      <td>...</td>\n",
       "      <td>512 GB</td>\n",
       "      <td>NaN</td>\n",
       "      <td>17.3 Inches</td>\n",
       "      <td>Bonfire Black</td>\n",
       "      <td>2024-01-28</td>\n",
       "    </tr>\n",
       "  </tbody>\n",
       "</table>\n",
       "<p>5 rows × 13 columns</p>\n",
       "</div>"
      ],
      "text/plain": [
       "   Brand           Model_Name      Price  \\\n",
       "16  ASUS  ASUS TUF Gaming F15   68158.39   \n",
       "60  ASUS   TUF Dash 15 (2021)   66413.68   \n",
       "5   ASUS        ROG Strix G16  116286.28   \n",
       "64  ASUS       TUF Gaming F15   87272.89   \n",
       "14  ASUS       TUF Gaming A17   58101.58   \n",
       "\n",
       "                                  Product_Description  Star_ratings  ...  \\\n",
       "16  ASUS TUF F15 Gaming Laptop, 15.6\"  144Hz FHD I...           4.5  ...   \n",
       "60  ASUS TUF Dash 15 (2021) Ultra Slim Gaming Lapt...           4.4  ...   \n",
       "5   ASUS ROG Strix G16 (2023) Gaming Laptop, 16” 1...           4.3  ...   \n",
       "64  ASUS TUF Gaming F15 Laptop, 15.6\"  144Hz FHD I...           4.5  ...   \n",
       "14  ASUS TUF Gaming A17 Gaming Laptop, 17.3” 144Hz...           4.4  ...   \n",
       "\n",
       "    Hard_Disk          Graphics_Processor   Screensize          Color  \\\n",
       "16     512 GB                         NaN  15.6 Inches  Bonfire Black   \n",
       "60     512 GB                         NaN  15.6 Inches   Eclipse Grey   \n",
       "5      512 GB                         NaN    16 Inches   Eclipse Gray   \n",
       "64     512 GB  NVIDIA GeForce RTX 3050 Ti  15.6 Inches   Eclipse Gray   \n",
       "14     512 GB                         NaN  17.3 Inches  Bonfire Black   \n",
       "\n",
       "    time_stamp  \n",
       "16  2024-01-28  \n",
       "60  2024-01-28  \n",
       "5   2024-01-28  \n",
       "64  2024-01-28  \n",
       "14  2024-01-28  \n",
       "\n",
       "[5 rows x 13 columns]"
      ]
     },
     "execution_count": 293,
     "metadata": {},
     "output_type": "execute_result"
    }
   ],
   "source": [
    "asus_viz"
   ]
  },
  {
   "cell_type": "code",
   "execution_count": 310,
   "id": "e8c97b6a",
   "metadata": {
    "scrolled": true
   },
   "outputs": [
    {
     "data": {
      "image/png": "[encoded data removed]",
      "text/plain": [
       "<Figure size 800x550 with 1 Axes>"
      ]
     },
     "metadata": {},
     "output_type": "display_data"
    }
   ],
   "source": [
    "asus_viz.plot(kind = \"barh\", x = \"Model_Name\", y = \"Ratings\", \n",
    "              xlabel = \"Ratings\", ylabel = \"Model Name\",\n",
    "              title = \"Most rated Asus laptops\", color = \"#3498db\", grid = False)\n",
    "plt.show()"
   ]
  }
 ],
 "metadata": {
  "kernelspec": {
   "display_name": "Python 3 (ipykernel)",
   "language": "python",
   "name": "python3"
  },
  "language_info": {
   "codemirror_mode": {
    "name": "ipython",
    "version": 3
   },
   "file_extension": ".py",
   "mimetype": "text/x-python",
   "name": "python",
   "nbconvert_exporter": "python",
   "pygments_lexer": "ipython3",
   "version": "3.11.5"
  }
 },
 "nbformat": 4,
 "nbformat_minor": 5
}
